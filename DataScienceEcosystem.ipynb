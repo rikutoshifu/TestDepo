{
 "cells": [
  {
   "cell_type": "markdown",
   "id": "ae0057d0-d11e-4714-9c65-13b4b7b1c760",
   "metadata": {},
   "source": [
    "Data Science Tools and Ecosystem"
   ]
  },
  {
   "cell_type": "markdown",
   "id": "7017fa1c-0e19-4b0a-a03f-f972c598f41c",
   "metadata": {},
   "source": [
    "In this notebook, Data Science Tools and Ecosystem are summarized."
   ]
  },
  {
   "cell_type": "markdown",
   "id": "8acc5c52-b828-4ccd-acdf-e5b793a5a1f5",
   "metadata": {},
   "source": [
    "Objectives:\n",
    ".List of PopularLanguage\n",
    ".List Of Popular Library\n",
    ".Use markdown table\n",
    "List of List of Data Science Tool\n",
    ".Simple exemple of arthimetic expretion"
   ]
  },
  {
   "cell_type": "markdown",
   "id": "9c0e686c-d6a0-491e-949e-9960ef45bb16",
   "metadata": {},
   "source": [
    "Some of the popular languages that Data Scientists use are:\n",
    "1-Python\n",
    "2-SQL\n",
    "3-R\n",
    "4-Java\n",
    "5-Scala"
   ]
  },
  {
   "cell_type": "markdown",
   "id": "4e9355f9-b298-4196-87ea-acef04514d7f",
   "metadata": {},
   "source": [
    "Some of the commonly used libraries used by Data Scientists include:\n",
    "1-Pandas\n",
    "2-NumPy\n",
    "3-Matplotlib\n",
    "4-Scikit-learn\n",
    "5-Seaborn\n"
   ]
  },
  {
   "cell_type": "markdown",
   "id": "54f6ea0e-00ec-4452-8804-72c282a2fd84",
   "metadata": {},
   "source": [
    "|Data Science Tools|\n",
    "|:-----------------|\n",
    "|Jupyter notebook|\n",
    "|RStudio|\n",
    "|Colab|\n",
    "|Spyder|"
   ]
  },
  {
   "cell_type": "markdown",
   "id": "ffcf9a67-8d04-4894-a799-b6fd38305a5a",
   "metadata": {},
   "source": [
    "Below are a few examples of evaluating arithmetic expressions in Python."
   ]
  },
  {
   "cell_type": "markdown",
   "id": "a2144cba-c397-4294-aee8-8ccb2d03bccf",
   "metadata": {},
   "source": [
    "This a simple arithmetic expression to mutiply then add integers."
   ]
  },
  {
   "cell_type": "code",
   "execution_count": 7,
   "id": "d39e0fca-1814-47e8-9553-fc3e2f64d9db",
   "metadata": {},
   "outputs": [
    {
     "data": {
      "text/plain": [
       "17"
      ]
     },
     "execution_count": 7,
     "metadata": {},
     "output_type": "execute_result"
    }
   ],
   "source": [
    "(3*4)+5"
   ]
  },
  {
   "cell_type": "markdown",
   "id": "3309b195-76c2-4f50-9ee6-33704979c0c4",
   "metadata": {},
   "source": [
    "This will convert 200 minutes to hours by diving by 60."
   ]
  },
  {
   "cell_type": "code",
   "execution_count": 10,
   "id": "4f28e196-c801-485c-b6ff-1941f41ae931",
   "metadata": {},
   "outputs": [
    {
     "data": {
      "text/plain": [
       "3.3333333333333335"
      ]
     },
     "execution_count": 10,
     "metadata": {},
     "output_type": "execute_result"
    }
   ],
   "source": [
    "200/60"
   ]
  },
  {
   "cell_type": "markdown",
   "id": "79c8600b-212f-4827-b12d-642ab9be9890",
   "metadata": {},
   "source": [
    "Author\n",
    "Henry Coffi"
   ]
  }
 ],
 "metadata": {
  "kernelspec": {
   "display_name": "Python 3 (ipykernel)",
   "language": "python",
   "name": "python3"
  },
  "language_info": {
   "codemirror_mode": {
    "name": "ipython",
    "version": 3
   },
   "file_extension": ".py",
   "mimetype": "text/x-python",
   "name": "python",
   "nbconvert_exporter": "python",
   "pygments_lexer": "ipython3",
   "version": "3.12.8"
  }
 },
 "nbformat": 4,
 "nbformat_minor": 5
}
